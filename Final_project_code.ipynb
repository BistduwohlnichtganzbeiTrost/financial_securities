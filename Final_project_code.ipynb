{
 "cells": [
  {
   "cell_type": "code",
   "execution_count": 1,
   "metadata": {},
   "outputs": [],
   "source": [
    "# MATH-UA 2791 Final Project (Fall 2020)\n",
    "# Group Memebers: Jialiang Chen(jc8663), Yue Li(yl4881), Zoe Lu(xl2192)\n",
    "\n",
    "\n",
    "import numpy as np\n",
    "import numpy.random as npr\n",
    "import pandas as pd\n",
    "import matplotlib.pyplot as plt\n",
    "import pandas_datareader\n",
    "import pandas_datareader.data as web\n",
    "import datetime\n",
    "npr.seed(2)"
   ]
  },
  {
   "cell_type": "markdown",
   "metadata": {},
   "source": [
    "# Scheme 1: Log Normal and Hull-White"
   ]
  },
  {
   "cell_type": "markdown",
   "metadata": {},
   "source": [
    "## Calculating $\\sigma_x$, $\\sigma_s$, and $\\rho_{xs}$ from historical data"
   ]
  },
  {
   "cell_type": "code",
   "execution_count": 2,
   "metadata": {},
   "outputs": [
    {
     "data": {
      "text/html": [
       "<div>\n",
       "<style scoped>\n",
       "    .dataframe tbody tr th:only-of-type {\n",
       "        vertical-align: middle;\n",
       "    }\n",
       "\n",
       "    .dataframe tbody tr th {\n",
       "        vertical-align: top;\n",
       "    }\n",
       "\n",
       "    .dataframe thead th {\n",
       "        text-align: right;\n",
       "    }\n",
       "</style>\n",
       "<table border=\"1\" class=\"dataframe\">\n",
       "  <thead>\n",
       "    <tr style=\"text-align: right;\">\n",
       "      <th></th>\n",
       "      <th>^STOXX50E</th>\n",
       "      <th>EURUSD=X</th>\n",
       "    </tr>\n",
       "    <tr>\n",
       "      <th>date</th>\n",
       "      <th></th>\n",
       "      <th></th>\n",
       "    </tr>\n",
       "  </thead>\n",
       "  <tbody>\n",
       "    <tr>\n",
       "      <th>2019-01-03</th>\n",
       "      <td>2954.659912</td>\n",
       "      <td>1.131811</td>\n",
       "    </tr>\n",
       "    <tr>\n",
       "      <th>2019-01-04</th>\n",
       "      <td>3041.850098</td>\n",
       "      <td>1.139108</td>\n",
       "    </tr>\n",
       "    <tr>\n",
       "      <th>2019-01-07</th>\n",
       "      <td>3033.639893</td>\n",
       "      <td>1.141044</td>\n",
       "    </tr>\n",
       "    <tr>\n",
       "      <th>2019-01-08</th>\n",
       "      <td>3054.939941</td>\n",
       "      <td>1.147974</td>\n",
       "    </tr>\n",
       "    <tr>\n",
       "      <th>2019-01-09</th>\n",
       "      <td>3070.239990</td>\n",
       "      <td>1.145607</td>\n",
       "    </tr>\n",
       "    <tr>\n",
       "      <th>...</th>\n",
       "      <td>...</td>\n",
       "      <td>...</td>\n",
       "    </tr>\n",
       "    <tr>\n",
       "      <th>2019-12-19</th>\n",
       "      <td>3739.169922</td>\n",
       "      <td>1.111593</td>\n",
       "    </tr>\n",
       "    <tr>\n",
       "      <th>2019-12-20</th>\n",
       "      <td>3776.560059</td>\n",
       "      <td>1.112595</td>\n",
       "    </tr>\n",
       "    <tr>\n",
       "      <th>2019-12-23</th>\n",
       "      <td>3776.659912</td>\n",
       "      <td>1.107984</td>\n",
       "    </tr>\n",
       "    <tr>\n",
       "      <th>2019-12-27</th>\n",
       "      <td>3782.270020</td>\n",
       "      <td>1.110112</td>\n",
       "    </tr>\n",
       "    <tr>\n",
       "      <th>2019-12-30</th>\n",
       "      <td>3748.469971</td>\n",
       "      <td>1.118230</td>\n",
       "    </tr>\n",
       "  </tbody>\n",
       "</table>\n",
       "<p>219 rows × 2 columns</p>\n",
       "</div>"
      ],
      "text/plain": [
       "              ^STOXX50E  EURUSD=X\n",
       "date                             \n",
       "2019-01-03  2954.659912  1.131811\n",
       "2019-01-04  3041.850098  1.139108\n",
       "2019-01-07  3033.639893  1.141044\n",
       "2019-01-08  3054.939941  1.147974\n",
       "2019-01-09  3070.239990  1.145607\n",
       "...                 ...       ...\n",
       "2019-12-19  3739.169922  1.111593\n",
       "2019-12-20  3776.560059  1.112595\n",
       "2019-12-23  3776.659912  1.107984\n",
       "2019-12-27  3782.270020  1.110112\n",
       "2019-12-30  3748.469971  1.118230\n",
       "\n",
       "[219 rows x 2 columns]"
      ]
     },
     "execution_count": 2,
     "metadata": {},
     "output_type": "execute_result"
    }
   ],
   "source": [
    "\n",
    "StockPrices = pd.DataFrame()\n",
    "ticker_list = ['^STOXX50E', 'EURUSD=X', ]\n",
    "start = datetime.datetime(2019,1,1)\n",
    "end = datetime.datetime(2020,1,1)\n",
    "for ticker in ticker_list:\n",
    "    stock_data = web.DataReader(ticker, 'yahoo',start, end)\n",
    "    StockPrices[ticker] = stock_data['Close']  \n",
    "StockPrices.index.name = 'date' \n",
    "StockPrices.dropna(inplace = True)\n",
    "StockPrices"
   ]
  },
  {
   "cell_type": "code",
   "execution_count": 3,
   "metadata": {},
   "outputs": [
    {
     "data": {
      "text/html": [
       "<div>\n",
       "<style scoped>\n",
       "    .dataframe tbody tr th:only-of-type {\n",
       "        vertical-align: middle;\n",
       "    }\n",
       "\n",
       "    .dataframe tbody tr th {\n",
       "        vertical-align: top;\n",
       "    }\n",
       "\n",
       "    .dataframe thead th {\n",
       "        text-align: right;\n",
       "    }\n",
       "</style>\n",
       "<table border=\"1\" class=\"dataframe\">\n",
       "  <thead>\n",
       "    <tr style=\"text-align: right;\">\n",
       "      <th></th>\n",
       "      <th>^STOXX50E</th>\n",
       "      <th>EURUSD=X</th>\n",
       "      <th>S_return</th>\n",
       "      <th>S_log_return</th>\n",
       "    </tr>\n",
       "    <tr>\n",
       "      <th>date</th>\n",
       "      <th></th>\n",
       "      <th></th>\n",
       "      <th></th>\n",
       "      <th></th>\n",
       "    </tr>\n",
       "  </thead>\n",
       "  <tbody>\n",
       "    <tr>\n",
       "      <th>2019-01-04</th>\n",
       "      <td>3041.850098</td>\n",
       "      <td>1.139108</td>\n",
       "      <td>0.029509</td>\n",
       "      <td>0.029082</td>\n",
       "    </tr>\n",
       "    <tr>\n",
       "      <th>2019-01-07</th>\n",
       "      <td>3033.639893</td>\n",
       "      <td>1.141044</td>\n",
       "      <td>-0.002699</td>\n",
       "      <td>-0.002703</td>\n",
       "    </tr>\n",
       "    <tr>\n",
       "      <th>2019-01-08</th>\n",
       "      <td>3054.939941</td>\n",
       "      <td>1.147974</td>\n",
       "      <td>0.007021</td>\n",
       "      <td>0.006997</td>\n",
       "    </tr>\n",
       "    <tr>\n",
       "      <th>2019-01-09</th>\n",
       "      <td>3070.239990</td>\n",
       "      <td>1.145607</td>\n",
       "      <td>0.005008</td>\n",
       "      <td>0.004996</td>\n",
       "    </tr>\n",
       "    <tr>\n",
       "      <th>2019-01-10</th>\n",
       "      <td>3075.729980</td>\n",
       "      <td>1.155495</td>\n",
       "      <td>0.001788</td>\n",
       "      <td>0.001787</td>\n",
       "    </tr>\n",
       "  </tbody>\n",
       "</table>\n",
       "</div>"
      ],
      "text/plain": [
       "              ^STOXX50E  EURUSD=X  S_return  S_log_return\n",
       "date                                                     \n",
       "2019-01-04  3041.850098  1.139108  0.029509      0.029082\n",
       "2019-01-07  3033.639893  1.141044 -0.002699     -0.002703\n",
       "2019-01-08  3054.939941  1.147974  0.007021      0.006997\n",
       "2019-01-09  3070.239990  1.145607  0.005008      0.004996\n",
       "2019-01-10  3075.729980  1.155495  0.001788      0.001787"
      ]
     },
     "execution_count": 3,
     "metadata": {},
     "output_type": "execute_result"
    }
   ],
   "source": [
    "#simga_s\n",
    "StockPrices['S_return'] = StockPrices['^STOXX50E'].pct_change()\n",
    "StockPrices['S_log_return'] = np.log(StockPrices['S_return']+1)\n",
    "StockPrices.dropna(inplace = True)\n",
    "StockPrices.head()"
   ]
  },
  {
   "cell_type": "code",
   "execution_count": 4,
   "metadata": {},
   "outputs": [
    {
     "data": {
      "text/plain": [
       "0.1424978728350279"
      ]
     },
     "execution_count": 4,
     "metadata": {},
     "output_type": "execute_result"
    }
   ],
   "source": [
    "mean_s = StockPrices['S_log_return'].mean()\n",
    "r_s = StockPrices['S_log_return'].values\n",
    "diff_square = [(r_s[i]-mean_s)**2 for i in range(0,len(r_s))]\n",
    "std_s_2 = np.sum(diff_square)\n",
    "std_s = np.sqrt(std_s_2/(len(r_s)-1))\n",
    "std_s /= np.sqrt(1/252)\n",
    "std_s"
   ]
  },
  {
   "cell_type": "code",
   "execution_count": 5,
   "metadata": {},
   "outputs": [
    {
     "data": {
      "text/html": [
       "<div>\n",
       "<style scoped>\n",
       "    .dataframe tbody tr th:only-of-type {\n",
       "        vertical-align: middle;\n",
       "    }\n",
       "\n",
       "    .dataframe tbody tr th {\n",
       "        vertical-align: top;\n",
       "    }\n",
       "\n",
       "    .dataframe thead th {\n",
       "        text-align: right;\n",
       "    }\n",
       "</style>\n",
       "<table border=\"1\" class=\"dataframe\">\n",
       "  <thead>\n",
       "    <tr style=\"text-align: right;\">\n",
       "      <th></th>\n",
       "      <th>^STOXX50E</th>\n",
       "      <th>EURUSD=X</th>\n",
       "      <th>S_return</th>\n",
       "      <th>S_log_return</th>\n",
       "      <th>X_return</th>\n",
       "      <th>X_log_return</th>\n",
       "    </tr>\n",
       "    <tr>\n",
       "      <th>date</th>\n",
       "      <th></th>\n",
       "      <th></th>\n",
       "      <th></th>\n",
       "      <th></th>\n",
       "      <th></th>\n",
       "      <th></th>\n",
       "    </tr>\n",
       "  </thead>\n",
       "  <tbody>\n",
       "    <tr>\n",
       "      <th>2019-01-07</th>\n",
       "      <td>3033.639893</td>\n",
       "      <td>1.141044</td>\n",
       "      <td>-0.002699</td>\n",
       "      <td>-0.002703</td>\n",
       "      <td>0.001700</td>\n",
       "      <td>0.001699</td>\n",
       "    </tr>\n",
       "    <tr>\n",
       "      <th>2019-01-08</th>\n",
       "      <td>3054.939941</td>\n",
       "      <td>1.147974</td>\n",
       "      <td>0.007021</td>\n",
       "      <td>0.006997</td>\n",
       "      <td>0.006073</td>\n",
       "      <td>0.006054</td>\n",
       "    </tr>\n",
       "    <tr>\n",
       "      <th>2019-01-09</th>\n",
       "      <td>3070.239990</td>\n",
       "      <td>1.145607</td>\n",
       "      <td>0.005008</td>\n",
       "      <td>0.004996</td>\n",
       "      <td>-0.002062</td>\n",
       "      <td>-0.002064</td>\n",
       "    </tr>\n",
       "    <tr>\n",
       "      <th>2019-01-10</th>\n",
       "      <td>3075.729980</td>\n",
       "      <td>1.155495</td>\n",
       "      <td>0.001788</td>\n",
       "      <td>0.001787</td>\n",
       "      <td>0.008631</td>\n",
       "      <td>0.008594</td>\n",
       "    </tr>\n",
       "    <tr>\n",
       "      <th>2019-01-11</th>\n",
       "      <td>3070.040039</td>\n",
       "      <td>1.151013</td>\n",
       "      <td>-0.001850</td>\n",
       "      <td>-0.001852</td>\n",
       "      <td>-0.003879</td>\n",
       "      <td>-0.003886</td>\n",
       "    </tr>\n",
       "  </tbody>\n",
       "</table>\n",
       "</div>"
      ],
      "text/plain": [
       "              ^STOXX50E  EURUSD=X  S_return  S_log_return  X_return  \\\n",
       "date                                                                  \n",
       "2019-01-07  3033.639893  1.141044 -0.002699     -0.002703  0.001700   \n",
       "2019-01-08  3054.939941  1.147974  0.007021      0.006997  0.006073   \n",
       "2019-01-09  3070.239990  1.145607  0.005008      0.004996 -0.002062   \n",
       "2019-01-10  3075.729980  1.155495  0.001788      0.001787  0.008631   \n",
       "2019-01-11  3070.040039  1.151013 -0.001850     -0.001852 -0.003879   \n",
       "\n",
       "            X_log_return  \n",
       "date                      \n",
       "2019-01-07      0.001699  \n",
       "2019-01-08      0.006054  \n",
       "2019-01-09     -0.002064  \n",
       "2019-01-10      0.008594  \n",
       "2019-01-11     -0.003886  "
      ]
     },
     "execution_count": 5,
     "metadata": {},
     "output_type": "execute_result"
    }
   ],
   "source": [
    "#sigma_x\n",
    "StockPrices['X_return'] = StockPrices['EURUSD=X'].pct_change()\n",
    "StockPrices['X_log_return'] = np.log(StockPrices['X_return']+1)\n",
    "StockPrices = StockPrices.mask(np.isinf(StockPrices))\n",
    "StockPrices.dropna(inplace = True)\n",
    "StockPrices.head()\n"
   ]
  },
  {
   "cell_type": "code",
   "execution_count": 6,
   "metadata": {},
   "outputs": [
    {
     "data": {
      "text/plain": [
       "0.05488716945790251"
      ]
     },
     "execution_count": 6,
     "metadata": {},
     "output_type": "execute_result"
    }
   ],
   "source": [
    "mean_x = StockPrices['X_log_return'].mean()\n",
    "r_x = StockPrices['X_log_return'].values\n",
    "diff_square_x = [(r_x[i]-mean_x)**2 for i in range(0,len(r_x))]\n",
    "std_x_2 = np.sum(diff_square_x)\n",
    "std_x = np.sqrt(std_x_2/(len(r_x)-1))\n",
    "std_x /= np.sqrt(1/252)\n",
    "std_x"
   ]
  },
  {
   "cell_type": "code",
   "execution_count": 7,
   "metadata": {},
   "outputs": [
    {
     "data": {
      "text/html": [
       "<div>\n",
       "<style scoped>\n",
       "    .dataframe tbody tr th:only-of-type {\n",
       "        vertical-align: middle;\n",
       "    }\n",
       "\n",
       "    .dataframe tbody tr th {\n",
       "        vertical-align: top;\n",
       "    }\n",
       "\n",
       "    .dataframe thead th {\n",
       "        text-align: right;\n",
       "    }\n",
       "</style>\n",
       "<table border=\"1\" class=\"dataframe\">\n",
       "  <thead>\n",
       "    <tr style=\"text-align: right;\">\n",
       "      <th></th>\n",
       "      <th>^STOXX50E</th>\n",
       "      <th>EURUSD=X</th>\n",
       "      <th>S_return</th>\n",
       "      <th>S_log_return</th>\n",
       "      <th>X_return</th>\n",
       "      <th>X_log_return</th>\n",
       "    </tr>\n",
       "  </thead>\n",
       "  <tbody>\n",
       "    <tr>\n",
       "      <th>^STOXX50E</th>\n",
       "      <td>1.000000</td>\n",
       "      <td>-0.729119</td>\n",
       "      <td>0.050578</td>\n",
       "      <td>0.051476</td>\n",
       "      <td>0.009777</td>\n",
       "      <td>0.010151</td>\n",
       "    </tr>\n",
       "    <tr>\n",
       "      <th>EURUSD=X</th>\n",
       "      <td>-0.729119</td>\n",
       "      <td>1.000000</td>\n",
       "      <td>0.022371</td>\n",
       "      <td>0.022881</td>\n",
       "      <td>0.124460</td>\n",
       "      <td>0.124211</td>\n",
       "    </tr>\n",
       "    <tr>\n",
       "      <th>S_return</th>\n",
       "      <td>0.050578</td>\n",
       "      <td>0.022371</td>\n",
       "      <td>1.000000</td>\n",
       "      <td>0.999950</td>\n",
       "      <td>-0.146418</td>\n",
       "      <td>-0.145585</td>\n",
       "    </tr>\n",
       "    <tr>\n",
       "      <th>S_log_return</th>\n",
       "      <td>0.051476</td>\n",
       "      <td>0.022881</td>\n",
       "      <td>0.999950</td>\n",
       "      <td>1.000000</td>\n",
       "      <td>-0.148111</td>\n",
       "      <td>-0.147264</td>\n",
       "    </tr>\n",
       "    <tr>\n",
       "      <th>X_return</th>\n",
       "      <td>0.009777</td>\n",
       "      <td>0.124460</td>\n",
       "      <td>-0.146418</td>\n",
       "      <td>-0.148111</td>\n",
       "      <td>1.000000</td>\n",
       "      <td>0.999995</td>\n",
       "    </tr>\n",
       "    <tr>\n",
       "      <th>X_log_return</th>\n",
       "      <td>0.010151</td>\n",
       "      <td>0.124211</td>\n",
       "      <td>-0.145585</td>\n",
       "      <td>-0.147264</td>\n",
       "      <td>0.999995</td>\n",
       "      <td>1.000000</td>\n",
       "    </tr>\n",
       "  </tbody>\n",
       "</table>\n",
       "</div>"
      ],
      "text/plain": [
       "              ^STOXX50E  EURUSD=X  S_return  S_log_return  X_return  \\\n",
       "^STOXX50E      1.000000 -0.729119  0.050578      0.051476  0.009777   \n",
       "EURUSD=X      -0.729119  1.000000  0.022371      0.022881  0.124460   \n",
       "S_return       0.050578  0.022371  1.000000      0.999950 -0.146418   \n",
       "S_log_return   0.051476  0.022881  0.999950      1.000000 -0.148111   \n",
       "X_return       0.009777  0.124460 -0.146418     -0.148111  1.000000   \n",
       "X_log_return   0.010151  0.124211 -0.145585     -0.147264  0.999995   \n",
       "\n",
       "              X_log_return  \n",
       "^STOXX50E         0.010151  \n",
       "EURUSD=X          0.124211  \n",
       "S_return         -0.145585  \n",
       "S_log_return     -0.147264  \n",
       "X_return          0.999995  \n",
       "X_log_return      1.000000  "
      ]
     },
     "execution_count": 7,
     "metadata": {},
     "output_type": "execute_result"
    }
   ],
   "source": [
    "corr = StockPrices.corr()\n",
    "corr"
   ]
  },
  {
   "cell_type": "markdown",
   "metadata": {},
   "source": [
    "## Model Parameters"
   ]
  },
  {
   "cell_type": "code",
   "execution_count": 8,
   "metadata": {},
   "outputs": [
    {
     "name": "stdout",
     "output_type": "stream",
     "text": [
      "ytm2: 2.4850000000000003\n",
      "p1,p2: 0.9756097560975611 0.9817587280029728\n",
      "-0.0\n"
     ]
    }
   ],
   "source": [
    "S0 = StockPrices.iloc[0,0] #initial price of STOXX50E from historical data\n",
    "a = 0.3 #mean-revertion factor(made up by us) \n",
    "rf = -0.25/100 #risk-free rate(1 year Euro rate on Jan 3, 2019, data from European Central Bank)\n",
    "q = 0.0261 #dividend yield from yahoo finance\n",
    "sigma_s = std_s #Calculated from historical price data\n",
    "sigma_x = std_x #Calculated from historical price data\n",
    "sigma_r = 0.8 #volatility of short rate(made up by us)\n",
    "rho_sx = corr.loc['X_log_return']['S_log_return'] #correlation between two stochastic processes X and S \n",
    "rho_sr = 0.65 #Correlation between S and r, made up by us \n",
    "Delta = 0.25 #Delta is 3 months\n",
    "T = 1 #1 year maturity\n",
    "k_1 = 0.53 #strik price for the stock part made up by ourselves\n",
    "k_2 = 0.07 #need to be changed\n",
    "theta_rate = 25 # the decreasing rate of theta \n",
    "\n",
    "ytm1 = 2.5 #data from U.S treasury department; this will be used to calculate p(0,T)\n",
    "\n",
    "#In order to calculate price for p(0, T-delta), we need to do an interpolation from other treasury bonds\n",
    "#Daily US Treasury Yield Curve Rate on Jan 3, 2019\n",
    "#https://www.treasury.gov/resource-center/data-chart-center/interest-rates/Pages/TextView.aspx?data=yieldYear&year=2019\n",
    "xp = [1.0/12, 2.0/12, 3.0/12, 0.5, 1, 2, 3, 5, 7, 10, 20, 30]\n",
    "yp = [2.42,2.42,2.41,2.47,2.50,2.39,2.35,2.37,2.44,2.56,2.75,2.92]\n",
    "\n",
    "ytm2 = np.interp(0.75, xp, yp) #yield to maturity for T-delta (9 months here)\n",
    "print (\"ytm2:\", ytm2)\n",
    "p1 = 1.0/(1+ytm1/100) #price of p(0,T)\n",
    "p2 = 1.0/(1+ytm2/100)**0.75 #price of p(0,T-delta)\n",
    "\n",
    "print (\"p1,p2:\",p1, p2) \n",
    "\n",
    "#In order to calculate f(0, T-delta), we need to calculate -dlogp(0,T)/dT, which can be appoached\n",
    "#by interpolation and numerical methods\n",
    "logy = np.log(yp)\n",
    "y = np.interp(0.75, xp, logy)\n",
    "y_d = np.interp(0.751, xp, logy)\n",
    "dx = 0.001\n",
    "f = -(y_d-y)/dx #f(0,T-delta) \n",
    "\n",
    "y_2 = np.interp(0.1, xp, logy)\n",
    "y_2_d = np.interp(0.101, xp, logy)\n",
    "r0 = -(y_2_d-y_2)/dx #r(0), also f(0,0)\n",
    "print(r0)"
   ]
  },
  {
   "cell_type": "markdown",
   "metadata": {},
   "source": [
    "Two-factor simulation with time steps (determine $r^j(T-\\Delta)$ and $S^j(T)$:\n",
    "$$r_{k+1}-r_k=(\\theta(t_k)-ar_k)\\Delta t+\\sigma_r\\sqrt{\\Delta t}\\tilde{\\varepsilon}$$\n",
    "$$S_T=S_0\\exp\\left((r_f-q-\\rho_{x,S}\\sigma_x\\sigma_S)T+\\sigma_S\\sqrt{T}\\varepsilon\\right)$$"
   ]
  },
  {
   "cell_type": "code",
   "execution_count": 9,
   "metadata": {},
   "outputs": [
    {
     "data": {
      "text/plain": [
       "array([[1.        , 0.        ],\n",
       "       [0.65      , 0.75993421]])"
      ]
     },
     "execution_count": 9,
     "metadata": {},
     "output_type": "execute_result"
    }
   ],
   "source": [
    "#Use Cholesky decomposition to generate correlated epsilons\n",
    "corr_mat = np.zeros((2,2))\n",
    "corr_mat[0,:] = [1.0,rho_sr]\n",
    "corr_mat[1,:] = [rho_sr,1.0]\n",
    "cho_mat = np.linalg.cholesky(corr_mat)\n",
    "cho_mat"
   ]
  },
  {
   "cell_type": "code",
   "execution_count": 10,
   "metadata": {},
   "outputs": [
    {
     "name": "stdout",
     "output_type": "stream",
     "text": [
      "(2, 252, 100000)\n",
      "9.211058951206733e-05\n"
     ]
    }
   ],
   "source": [
    "# parameters for the simulation\n",
    "Nsim = 100000\n",
    "M = 252\n",
    "dt = T/M\n",
    "ran_num = npr.standard_normal(size = (2,M,Nsim))\n",
    "print(ran_num.shape)\n",
    "print(np.average(ran_num))\n"
   ]
  },
  {
   "cell_type": "code",
   "execution_count": 11,
   "metadata": {},
   "outputs": [],
   "source": [
    "# epsilon[0] is for rate and [1] is for stock\n",
    "epsilon = np.zeros_like(ran_num)\n",
    "for i in range(0, Nsim):\n",
    "    epsilon[:, :, i]=np.dot(cho_mat, ran_num[:, :, i])*dt\n",
    "    \n"
   ]
  },
  {
   "cell_type": "code",
   "execution_count": 12,
   "metadata": {},
   "outputs": [
    {
     "data": {
      "text/plain": [
       "array([[1.        , 0.67636954],\n",
       "       [0.67636954, 1.        ]])"
      ]
     },
     "execution_count": 12,
     "metadata": {},
     "output_type": "execute_result"
    }
   ],
   "source": [
    "np.corrcoef(epsilon[0,:,2],epsilon[1,:,2])"
   ]
  },
  {
   "cell_type": "markdown",
   "metadata": {},
   "source": [
    "$\\Pi_{T}=\\max \\left[0,\\left(\\frac{S(T)}{S(0)}-k\\right) \\cdot\\left(\\frac{L^{j}(T-\\Delta, T-\\Delta, T)}{L(0, T-\\Delta, T)}-k^{\\prime}\\right)\\right]$"
   ]
  },
  {
   "cell_type": "code",
   "execution_count": 13,
   "metadata": {},
   "outputs": [
    {
     "name": "stdout",
     "output_type": "stream",
     "text": [
      "0.000133116662475712\n",
      "The drift is -0.027448199675057346, the vol is 0.1424978728350279.\n",
      "Scheme 1: S_part average is  0.97298282185797\n"
     ]
    },
    {
     "data": {
      "image/png": "[encoded data removed]",
      "text/plain": [
       "<Figure size 432x288 with 1 Axes>"
      ]
     },
     "metadata": {
      "needs_background": "light"
     },
     "output_type": "display_data"
    }
   ],
   "source": [
    "# Stock part of final payoff\n",
    "epsilon_s = np.sum(epsilon[1], axis = 0)\n",
    "print(np.average(epsilon_s))\n",
    "\n",
    "#S(T)/S(0) for each trajectory\n",
    "S_part = np.exp((rf-q-rho_sx*sigma_x*sigma_s)*T + sigma_s*np.sqrt(T)*epsilon_s)   \n",
    "plt.hist(S_part)\n",
    "plt.title (\"Scheme 1: S_part\")\n",
    "print('The drift is {}, the vol is {}.'.format(rf-q-rho_sx*sigma_x*sigma_s, sigma_s))\n",
    "S_part_avg = np.average(S_part)\n",
    "print (\"Scheme 1: S_part average is \", S_part_avg)"
   ]
  },
  {
   "cell_type": "markdown",
   "metadata": {},
   "source": [
    " Next we do the Libor part\n",
    " \n",
    "$$ L(t ; S, T)=-\\frac{p(t, T)-p(t, S)}{(T-S) p(t, T)}$$"
   ]
  },
  {
   "cell_type": "markdown",
   "metadata": {},
   "source": [
    "Libor Ratio in the payoff: \n",
    "\n",
    "$$\\frac{(1-p(T-\\Delta,T)) \\times (p(0,T))}{p(T-\\Delta,T) \\times (p(0,T-\\Delta)-p(0,T)))}$$\n"
   ]
  },
  {
   "cell_type": "code",
   "execution_count": 14,
   "metadata": {},
   "outputs": [
    {
     "data": {
      "text/plain": [
       "13.796717934316938"
      ]
     },
     "execution_count": 14,
     "metadata": {},
     "output_type": "execute_result"
    }
   ],
   "source": [
    "#Libor part of final payoff\n",
    "#function to compute L_ratio\n",
    "def L_ratio(p):\n",
    "    return ((1-p)*(p1))/(p*(p2-p1))\n",
    "L_ratio(0.92)"
   ]
  },
  {
   "cell_type": "markdown",
   "metadata": {},
   "source": [
    "$$B(T-\\Delta, T)=\\frac{1}{a}\\left(1-e^{-a\\Delta)}\\right))$$"
   ]
  },
  {
   "cell_type": "code",
   "execution_count": 15,
   "metadata": {},
   "outputs": [
    {
     "data": {
      "text/plain": [
       "0.24085504557149048"
      ]
     },
     "execution_count": 15,
     "metadata": {},
     "output_type": "execute_result"
    }
   ],
   "source": [
    "#function to compute B(T-Delta, T) and P(T-Delta, T)\n",
    "def B(Delta):\n",
    "    return (1/a)*(1-np.exp(-a*Delta))\n",
    "B(Delta)"
   ]
  },
  {
   "cell_type": "markdown",
   "metadata": {},
   "source": [
    "$$\n",
    "\\begin{aligned}\n",
    "p(T-\\Delta, T) &=\\frac{p(0, T)}{p(0, T-\\Delta)} \\\\\n",
    "& \\times \\exp \\left(B(T-\\Delta, T) f(0, T-\\Delta)-\\frac{\\sigma^{2}}{4 a} B^{2}(T-\\Delta, T)\\left(1-e^{-2 a t}\\right)-B(T-\\Delta, T) r(T-\\Delta)\\right)\n",
    "\\end{aligned}\n",
    "$$"
   ]
  },
  {
   "cell_type": "code",
   "execution_count": 16,
   "metadata": {},
   "outputs": [
    {
     "data": {
      "text/plain": [
       "6.503168807353982"
      ]
     },
     "execution_count": 16,
     "metadata": {},
     "output_type": "execute_result"
    }
   ],
   "source": [
    "#function to compute p(T-Delta, T)\n",
    "def P(r):\n",
    "    return (p1 / p2) * np.exp(B(Delta) * f - (sigma_r**2)/(4*a)*B(Delta)*B(Delta)*(1-np.exp(-2*a*(T-Delta)))-B(Delta)*r)\n",
    "L_ratio(P(0.07))\n"
   ]
  },
  {
   "cell_type": "markdown",
   "metadata": {},
   "source": [
    "Need to derive: $$\n",
    "r^{j}(T-\\Delta)\n",
    "$$ where $$\n",
    "r_{k+1}-r_{k}=\\left(\\theta\\left(t_{k}\\right)-a r_{k}\\right) \\Delta t+\\sigma_{r} \\sqrt{\\Delta t} \\tilde{\\varepsilon}\n",
    "$$\n",
    "$$\\theta(t) = e^{-at}$$"
   ]
  },
  {
   "cell_type": "code",
   "execution_count": 17,
   "metadata": {},
   "outputs": [
    {
     "name": "stdout",
     "output_type": "stream",
     "text": [
      "(252, 100000)\n",
      "Cut is 189.0\n",
      "(253, 100000)\n",
      "0.9697472731066903\n",
      "The simulation results of rate at T-Delta is r[189], it has shape (100000,)\n",
      "The average r at T-delta is 0.03076553889621757\n"
     ]
    },
    {
     "data": {
      "text/plain": [
       "Text(0.5, 1.0, 'simulated rate curve with theta rate = 25')"
      ]
     },
     "execution_count": 17,
     "metadata": {},
     "output_type": "execute_result"
    },
    {
     "data": {
      "image/png": "[encoded data removed]",
      "text/plain": [
       "<Figure size 432x288 with 1 Axes>"
      ]
     },
     "metadata": {
      "needs_background": "light"
     },
     "output_type": "display_data"
    }
   ],
   "source": [
    "def theta(t, a):\n",
    "    return np.exp(-a*t)\n",
    "\n",
    "print(epsilon[0].shape)\n",
    "cut = ((T-Delta)/T)*M\n",
    "print(\"Cut is\",cut)\n",
    "r=np.zeros([M+1, Nsim])\n",
    "print(r.shape)\n",
    "r[0,:] = r0\n",
    "for k in range(1, len(r)):\n",
    "    r[k,:] = r[k-1,:]+(theta(dt*k, theta_rate)-a*r[k-1])*dt + sigma_r*np.sqrt(dt)*epsilon[0][k-1]\n",
    "\n",
    "\n",
    "L_part = L_ratio(P(r[189]))         # The L_part in our payoff\n",
    "print(np.average(P(r[189])))\n",
    "\n",
    "print(\"The simulation results of rate at T-Delta is r[189], it has shape\", r[int(cut)].shape)\n",
    "\n",
    "plt.plot(r[:,2000])\n",
    "print(\"The average r at T-delta is\", np.average(r[189]))\n",
    "plt.title(\"simulated rate curve with theta rate = \" +str (theta_rate))"
   ]
  },
  {
   "cell_type": "code",
   "execution_count": 18,
   "metadata": {},
   "outputs": [
    {
     "name": "stdout",
     "output_type": "stream",
     "text": [
      "The average of L_part is 4.9497659236016975\n"
     ]
    },
    {
     "data": {
      "text/plain": [
       "Text(0.5, 1.0, 'Scheme 1: L_part with theta rate = 25')"
      ]
     },
     "execution_count": 18,
     "metadata": {},
     "output_type": "execute_result"
    },
    {
     "data": {
      "image/png": "[encoded data removed]",
      "text/plain": [
       "<Figure size 432x288 with 1 Axes>"
      ]
     },
     "metadata": {
      "needs_background": "light"
     },
     "output_type": "display_data"
    }
   ],
   "source": [
    "L_part_avg = np.average(L_part)\n",
    "print(\"The average of L_part is\", L_part_avg)\n",
    "plt.hist(L_part)\n",
    "plt.title (\"Scheme 1: L_part with theta rate = \" + str(theta_rate))"
   ]
  },
  {
   "cell_type": "code",
   "execution_count": null,
   "metadata": {},
   "outputs": [],
   "source": []
  },
  {
   "cell_type": "markdown",
   "metadata": {},
   "source": [
    "Compute the payoff of each of the trajectories:$$\n",
    "\\Pi_{T}^{j}(L, S)=\\max \\left[0,\\left(\\frac{S(T)}{S(0)}-k\\right) \\cdot\\left(\\frac{L^{j}(T-\\Delta, T-\\Delta, T)}{L(0, T-\\Delta, T)}-k^{\\prime}\\right)\\right]\n",
    "$$"
   ]
  },
  {
   "cell_type": "code",
   "execution_count": 19,
   "metadata": {},
   "outputs": [
    {
     "name": "stdout",
     "output_type": "stream",
     "text": [
      "The average of the product of L_part and S_part is 0.13387619666809356\n",
      "Number of postive payoffs is 100000\n",
      "Average payoff is 0.13387619666809356\n"
     ]
    },
    {
     "data": {
      "text/plain": [
       "Text(0.5, 1.0, 'Scheme 1: payoff at T')"
      ]
     },
     "execution_count": 19,
     "metadata": {},
     "output_type": "execute_result"
    },
    {
     "data": {
      "image/png": "[encoded data removed]",
      "text/plain": [
       "<Figure size 432x288 with 1 Axes>"
      ]
     },
     "metadata": {
      "needs_background": "light"
     },
     "output_type": "display_data"
    }
   ],
   "source": [
    "#pi = np.maximum(0, np.multiply((S_part - k) * (L_part - k_2)))\n",
    "temp = np.multiply((S_part-k_1),(L_part-k_2))\n",
    "\n",
    "print(\"The average of the product of L_part and S_part is\",np.average(temp))\n",
    "print(\"Number of postive payoffs is\", sum(x > 0 for x in temp))\n",
    "#The payoff of each of the trajectories\n",
    "pi = np.maximum(0,temp)     \n",
    "print(\"Average payoff is\", np.average(pi))\n",
    "plt.hist(pi)\n",
    "plt.title (\"Scheme 1: payoff at T\")"
   ]
  },
  {
   "cell_type": "markdown",
   "metadata": {},
   "source": [
    "Discount factors for each of the trajectories:$$\n",
    "\\exp \\left(-\\int_{0}^{T} r_{u} d u\\right) \\sim \\exp \\left(-\\sum_{k=1}^{N} r\\left(t_{k}\\right) \\Delta t\\right)\n",
    "$$"
   ]
  },
  {
   "cell_type": "code",
   "execution_count": 20,
   "metadata": {},
   "outputs": [
    {
     "name": "stdout",
     "output_type": "stream",
     "text": [
      "(253, 100000)\n",
      "[0.96743558 0.96854527 0.96787748 ... 0.96915347 0.97060066 0.9730257 ]\n"
     ]
    },
    {
     "data": {
      "text/plain": [
       "Text(0.5, 1.0, 'Scheme 1: discount factors with theta rate = 25')"
      ]
     },
     "execution_count": 20,
     "metadata": {},
     "output_type": "execute_result"
    },
    {
     "data": {
      "image/png": "[encoded data removed]",
      "text/plain": [
       "<Figure size 432x288 with 1 Axes>"
      ]
     },
     "metadata": {
      "needs_background": "light"
     },
     "output_type": "display_data"
    }
   ],
   "source": [
    "print(r.shape)\n",
    "def dis_f(r):\n",
    "    return np.exp(-np.sum(r*dt, axis = 0))\n",
    "discount = dis_f(r)\n",
    "print (discount)\n",
    "discount.shape\n",
    "plt.hist(discount)\n",
    "plt.title(\"Scheme 1: discount factors with theta rate = \" + str(theta_rate))\n",
    "\n"
   ]
  },
  {
   "cell_type": "markdown",
   "metadata": {},
   "source": [
    "The Final payoff of this product:\n",
    "    $$\n",
    "\\mathbb{E}^{Q}\\left[\\exp \\left(-\\int_{0}^{T} r_{u} d u\\right) \\times \\Pi_{T}\\right]\n",
    "$$"
   ]
  },
  {
   "cell_type": "code",
   "execution_count": 21,
   "metadata": {},
   "outputs": [
    {
     "name": "stdout",
     "output_type": "stream",
     "text": [
      "The price of this product is 0.1297124610566754\n"
     ]
    },
    {
     "data": {
      "text/plain": [
       "Text(0.5, 1.0, 'discounted payoff of Scheme 1 with theta rate = 25')"
      ]
     },
     "execution_count": 21,
     "metadata": {},
     "output_type": "execute_result"
    },
    {
     "data": {
      "image/png": "[encoded data removed]",
      "text/plain": [
       "<Figure size 432x288 with 1 Axes>"
      ]
     },
     "metadata": {
      "needs_background": "light"
     },
     "output_type": "display_data"
    }
   ],
   "source": [
    "price = np.average(np.multiply(discount, pi))\n",
    "\n",
    "plt.hist(np.multiply(discount,pi))\n",
    "print(\"The price of this product is\", price)\n",
    "plt.title (\"discounted payoff of Scheme 1 with theta rate = \" + str(theta_rate) )"
   ]
  },
  {
   "cell_type": "code",
   "execution_count": 22,
   "metadata": {},
   "outputs": [
    {
     "data": {
      "text/plain": [
       "array([[-0.        , -0.        , -0.        , ..., -0.        ,\n",
       "        -0.        , -0.        ],\n",
       "       [ 0.00351013,  0.00358222,  0.00316628, ...,  0.00411458,\n",
       "         0.00355032,  0.0034135 ],\n",
       "       [ 0.00670253,  0.00656691,  0.00622308, ...,  0.00700985,\n",
       "         0.00675558,  0.00635517],\n",
       "       ...,\n",
       "       [ 0.02892874,  0.02814799,  0.02730142, ...,  0.02516954,\n",
       "         0.02903477,  0.02074993],\n",
       "       [ 0.02910084,  0.02800678,  0.0273782 , ...,  0.02514674,\n",
       "         0.02901653,  0.02043304],\n",
       "       [ 0.02887024,  0.02768346,  0.02742713, ...,  0.02498801,\n",
       "         0.0289144 ,  0.02018424]])"
      ]
     },
     "execution_count": 22,
     "metadata": {},
     "output_type": "execute_result"
    },
    {
     "data": {
      "image/png": "[encoded data removed]",
      "text/plain": [
       "<Figure size 504x432 with 2 Axes>"
      ]
     },
     "metadata": {
      "needs_background": "light"
     },
     "output_type": "display_data"
    }
   ],
   "source": [
    "fig,(ax1,ax2)=plt.subplots(2,1,sharex=True,figsize=(7,6))\n",
    "ax1.plot(r[:252,:20])\n",
    "ax1.set_ylabel('rates')\n",
    "ax1.grid(True)\n",
    "r"
   ]
  },
  {
   "cell_type": "markdown",
   "metadata": {},
   "source": [
    "# Scheme 2:lognormal & lognormal LIBOR\n",
    "rho_sp$=\\rho_{p,S}$, rho_sl$=\\rho\\langle{dW,dZ}\\rangle$\n",
    "Assume LIBOR is lognormal"
   ]
  },
  {
   "cell_type": "code",
   "execution_count": 23,
   "metadata": {},
   "outputs": [
    {
     "data": {
      "text/plain": [
       "3033.639892578125"
      ]
     },
     "execution_count": 23,
     "metadata": {},
     "output_type": "execute_result"
    }
   ],
   "source": [
    "S0"
   ]
  },
  {
   "cell_type": "code",
   "execution_count": 24,
   "metadata": {},
   "outputs": [],
   "source": [
    "sigma_x     # USD/EURO-vol: sigma_x from historical adj close data\n",
    "sigma_s     # Stock-vol: sigma_s from historical adj close data\n",
    "sigma_p=0.05  # bond-vol made up by us (should change this later)!!\n",
    "sigma_r      # short-rate-vol : sigma_r made up by us\n",
    "sigma_l = 0.1 # LIBOR-vol made up by us (should change this later)!!\n",
    "\n",
    "\n",
    "rho_sx # corr (stock, USE/EURO)\n",
    "\n",
    "rho_sl=0.65 # corr (stock, LIBOR), made up by us (should change this later) !!\n",
    "rho_sp=-rho_sl # corr (stock, bond), by our assumption\n",
    "\n",
    "r_f_d = 2.5/100 # risk-free rate during 2019 in the US\n",
    "\n",
    "T # 1yr maturity\n",
    "DeltaT= T-Delta # T-delta = 9 months duration\n",
    "\n",
    "k_1 # strike price for the stock (made up by us)\n",
    "k_2 # k'\n",
    "\n",
    "corr_mat2=np.zeros((2,2))\n",
    "corr_mat2[0,:]=[1,rho_sl]\n",
    "corr_mat2[1,:]=[rho_sl,1]\n",
    "\n",
    "cho_mat2=np.linalg.cholesky(corr_mat2)\n",
    "cho_mat2\n",
    "\n",
    "M=252\n",
    "I=100000\n",
    "dt = T/M"
   ]
  },
  {
   "cell_type": "code",
   "execution_count": 25,
   "metadata": {},
   "outputs": [
    {
     "data": {
      "text/plain": [
       "(2, 100000)"
      ]
     },
     "execution_count": 25,
     "metadata": {},
     "output_type": "execute_result"
    }
   ],
   "source": [
    "corr_mat2\n",
    "ran_num2 = np.random.standard_normal((2,I))\n",
    "epsilons = np.dot(cho_mat2, ran_num2)\n",
    "epsilons.shape\n"
   ]
  },
  {
   "cell_type": "markdown",
   "metadata": {},
   "source": [
    "$$S_T=S_0\\exp\\left((r_f-q-\\rho_{x,S}\\sigma_x\\sigma_S+\\rho_{p,S}\\sigma_S\\sigma_p)T+\\sigma_s\\sqrt{T}\\varepsilon\\right)$$"
   ]
  },
  {
   "cell_type": "code",
   "execution_count": 26,
   "metadata": {},
   "outputs": [
    {
     "name": "stdout",
     "output_type": "stream",
     "text": [
      "Scheme 2: S_part average is  0.9784031885083873\n"
     ]
    },
    {
     "data": {
      "image/png": "[encoded data removed]",
      "text/plain": [
       "<Figure size 432x288 with 1 Axes>"
      ]
     },
     "metadata": {
      "needs_background": "light"
     },
     "output_type": "display_data"
    }
   ],
   "source": [
    "# Spart = ST/S0\n",
    "Spart = np.exp((rf - q - rho_sx * sigma_x * sigma_s + rho_sp * sigma_s * sigma_p) * T +\n",
    "               sigma_s * np.sqrt (T) * epsilons[0]) \n",
    "Spart_avg = np.average (Spart)\n",
    "plt.hist(Spart)\n",
    "plt.title(\"Scheme 2: S_part\")\n",
    "print(\"Scheme 2: S_part average is \", Spart_avg)\n"
   ]
  },
  {
   "cell_type": "code",
   "execution_count": null,
   "metadata": {},
   "outputs": [],
   "source": []
  },
  {
   "cell_type": "code",
   "execution_count": 27,
   "metadata": {},
   "outputs": [
    {
     "name": "stdout",
     "output_type": "stream",
     "text": [
      "0.044997365930776745\n"
     ]
    }
   ],
   "source": [
    "#Calculate L0, which is f(0,T)\n",
    "y_2 = np.interp(1, xp, logy)\n",
    "y_d_2 = np.interp(1.001, xp, logy)\n",
    "dx_2 = 0.001\n",
    "f_2 = -(y_d_2-y_2)/dx_2 #f(0,T) \n",
    "L0 = f_2\n",
    "print(L0)"
   ]
  },
  {
   "cell_type": "markdown",
   "metadata": {},
   "source": [
    "$$L(0, T-\\Delta, T)=L_{0} \\exp \\left(\\sigma_{L} \\sqrt{T-\\Delta} \\tilde{\\varepsilon}\\right)$$"
   ]
  },
  {
   "cell_type": "code",
   "execution_count": 28,
   "metadata": {},
   "outputs": [
    {
     "data": {
      "text/plain": [
       "0.045183786294563176"
      ]
     },
     "execution_count": 28,
     "metadata": {},
     "output_type": "execute_result"
    },
    {
     "data": {
      "image/png": "[encoded data removed]",
      "text/plain": [
       "<Figure size 432x288 with 1 Axes>"
      ]
     },
     "metadata": {
      "needs_background": "light"
     },
     "output_type": "display_data"
    }
   ],
   "source": [
    "L = L0 * np.exp(sigma_l * np.sqrt(T - Delta) * epsilons[1])\n",
    "plt.hist(L)\n",
    "np.average(L)"
   ]
  },
  {
   "cell_type": "code",
   "execution_count": null,
   "metadata": {},
   "outputs": [],
   "source": []
  },
  {
   "cell_type": "markdown",
   "metadata": {},
   "source": [
    "$$\n",
    "p(0, T-\\Delta)=p(0, T)+L(0, T-\\Delta, T) \\cdot \\Delta \\cdot p(0, T)\n",
    "$$"
   ]
  },
  {
   "cell_type": "code",
   "execution_count": 29,
   "metadata": {},
   "outputs": [
    {
     "data": {
      "text/plain": [
       "0.986630191779162"
      ]
     },
     "execution_count": 29,
     "metadata": {},
     "output_type": "execute_result"
    }
   ],
   "source": [
    "p_temp1 = p1 + L * Delta * p1\n",
    "np.average(p_temp1)\n"
   ]
  },
  {
   "cell_type": "code",
   "execution_count": 30,
   "metadata": {},
   "outputs": [
    {
     "data": {
      "text/plain": [
       "0.9817587280029728"
      ]
     },
     "execution_count": 30,
     "metadata": {},
     "output_type": "execute_result"
    }
   ],
   "source": [
    "p2"
   ]
  },
  {
   "cell_type": "markdown",
   "metadata": {},
   "source": [
    "From No arbitraage: $$\n",
    "p(T-\\Delta, T)=\\frac{p(0, T)}{p(0, T-\\Delta)}\n",
    "$$"
   ]
  },
  {
   "cell_type": "code",
   "execution_count": 31,
   "metadata": {},
   "outputs": [],
   "source": [
    "p_temp2 = np.zeros_like(p_temp1)\n",
    "p_temp2 = p1/p2"
   ]
  },
  {
   "cell_type": "markdown",
   "metadata": {},
   "source": [
    "Libor in the payoff: $$\n",
    "\\frac{(1-p(T-\\Delta, T)) \\times(p(0, T))}{p(T-\\Delta, T) \\times(p(0, T-\\Delta)-p(0, T)))}\n",
    "$$"
   ]
  },
  {
   "cell_type": "code",
   "execution_count": 32,
   "metadata": {},
   "outputs": [],
   "source": [
    "#Libor part of final payoff\n",
    "#function to compute L_ratio\n",
    "#In this model, p(T-Delta,T) and p(0,T-Delta) are both input from our simulated L_ratio\n",
    "def L_ratio_2(p, p2):\n",
    "    return ((1-p)*(p1))/(p*(p2-p1))\n",
    "Lpart = L_ratio_2(p_temp2, p_temp1)\n",
    "Lpart_avg = np.average(Lpart)\n",
    "\n"
   ]
  },
  {
   "cell_type": "code",
   "execution_count": 33,
   "metadata": {},
   "outputs": [
    {
     "name": "stdout",
     "output_type": "stream",
     "text": [
      "The average of L_part is 0.5621620827358431\n"
     ]
    },
    {
     "data": {
      "text/plain": [
       "Text(0.5, 1.0, 'Scheme 2: L_part')"
      ]
     },
     "execution_count": 33,
     "metadata": {},
     "output_type": "execute_result"
    },
    {
     "data": {
      "image/png": "[encoded data removed]",
      "text/plain": [
       "<Figure size 432x288 with 1 Axes>"
      ]
     },
     "metadata": {
      "needs_background": "light"
     },
     "output_type": "display_data"
    }
   ],
   "source": [
    "print(\"The average of L_part is\",Lpart_avg)\n",
    "plt.hist(Lpart)\n",
    "plt.title(\"Scheme 2: L_part\")"
   ]
  },
  {
   "cell_type": "markdown",
   "metadata": {},
   "source": [
    "$$\n",
    "\\Pi_{T}=\\max \\left[0,\\left(\\frac{S(T)}{S(0)}-k\\right) \\cdot\\left(\\frac{L^{j}(T-\\Delta, T-\\Delta, T)}{L(0, T-\\Delta, T)}-k^{\\prime}\\right)\\right]\n",
    "$$"
   ]
  },
  {
   "cell_type": "code",
   "execution_count": 34,
   "metadata": {},
   "outputs": [
    {
     "data": {
      "text/plain": [
       "numpy.ndarray"
      ]
     },
     "execution_count": 34,
     "metadata": {},
     "output_type": "execute_result"
    }
   ],
   "source": [
    "type(Lpart - k_2)\n",
    "type(np.multiply((Spart - k_1), (Lpart - k_2)))"
   ]
  },
  {
   "cell_type": "code",
   "execution_count": 35,
   "metadata": {},
   "outputs": [
    {
     "name": "stdout",
     "output_type": "stream",
     "text": [
      "Average payoff is: 0.7511976446574363\n"
     ]
    },
    {
     "data": {
      "image/png": "[encoded data removed]",
      "text/plain": [
       "<Figure size 432x288 with 1 Axes>"
      ]
     },
     "metadata": {
      "needs_background": "light"
     },
     "output_type": "display_data"
    }
   ],
   "source": [
    "pi_2 = np.maximum(0, np.multiply((Spart - k_1), (Lpart - k_2)))\n",
    "plt.hist(pi_2)\n",
    "plt.title(\"Scheme 2: payoff at T\")\n",
    "print(\"Average payoff is:\", np.average(pi_2))"
   ]
  },
  {
   "cell_type": "markdown",
   "metadata": {},
   "source": [
    "Calculate the constant discount rate:$$\n",
    "\\exp \\left(-\\int_{0}^{T} r d u\\right) \\sim \\exp \\left(-\\sum_{k=1}^{N} r \\Delta t\\right)\n",
    "$$"
   ]
  },
  {
   "cell_type": "code",
   "execution_count": 36,
   "metadata": {},
   "outputs": [
    {
     "name": "stdout",
     "output_type": "stream",
     "text": [
      "The discount factor is constant in Scheme 2: 0.9999007985715808\n"
     ]
    }
   ],
   "source": [
    "temp_r = np.zeros(M)[:] = r_f_d * dt\n",
    "dis_f_const = np.exp(-np.sum(temp_r))\n",
    "print(\"The discount factor is constant in Scheme 2:\",dis_f_const)\n"
   ]
  },
  {
   "cell_type": "markdown",
   "metadata": {},
   "source": [
    "$$\n",
    "\\mathbb{E}^{Q}\\left[\\exp \\left(-\\int_{0}^{T} r d u\\right) \\times \\Pi_{T}\\right]\n",
    "$$"
   ]
  },
  {
   "cell_type": "code",
   "execution_count": 37,
   "metadata": {},
   "outputs": [
    {
     "name": "stdout",
     "output_type": "stream",
     "text": [
      "The price of this product is  0.7511231247780612\n"
     ]
    },
    {
     "data": {
      "text/plain": [
       "Text(0.5, 1.0, 'discounted payoff of Scheme 2')"
      ]
     },
     "execution_count": 37,
     "metadata": {},
     "output_type": "execute_result"
    },
    {
     "data": {
      "image/png": "[encoded data removed]",
      "text/plain": [
       "<Figure size 432x288 with 1 Axes>"
      ]
     },
     "metadata": {
      "needs_background": "light"
     },
     "output_type": "display_data"
    }
   ],
   "source": [
    "\n",
    "price_2 = np.average(pi_2[:] * dis_f_const)\n",
    "print(\"The price of this product is \",price_2)\n",
    "plt.hist(np.multiply(pi_2,dis_f_const))\n",
    "plt.title(\"discounted payoff of Scheme 2\")"
   ]
  },
  {
   "cell_type": "code",
   "execution_count": null,
   "metadata": {},
   "outputs": [],
   "source": []
  },
  {
   "cell_type": "markdown",
   "metadata": {},
   "source": [
    "## --------------------------------------------------------------------------------------------------------"
   ]
  },
  {
   "cell_type": "markdown",
   "metadata": {},
   "source": [
    "# Final Print"
   ]
  },
  {
   "cell_type": "code",
   "execution_count": 38,
   "metadata": {
    "scrolled": true
   },
   "outputs": [
    {
     "name": "stdout",
     "output_type": "stream",
     "text": [
      "Method 1 HW pricing: 0.1297124610566754\n",
      "Method 2 lognormal LIBOR pricing: 0.7511231247780612\n"
     ]
    }
   ],
   "source": [
    "print (\"Method 1 HW pricing:\" , price) # price resulted from Hull-White in method 1\n",
    "print (\"Method 2 lognormal LIBOR pricing:\", price_2) # price from lognormal LIBOR assumption in method 2\n"
   ]
  },
  {
   "cell_type": "code",
   "execution_count": null,
   "metadata": {},
   "outputs": [],
   "source": []
  },
  {
   "cell_type": "code",
   "execution_count": null,
   "metadata": {},
   "outputs": [],
   "source": []
  },
  {
   "cell_type": "code",
   "execution_count": null,
   "metadata": {},
   "outputs": [],
   "source": []
  },
  {
   "cell_type": "code",
   "execution_count": null,
   "metadata": {},
   "outputs": [],
   "source": []
  },
  {
   "cell_type": "code",
   "execution_count": null,
   "metadata": {},
   "outputs": [],
   "source": []
  },
  {
   "cell_type": "code",
   "execution_count": null,
   "metadata": {},
   "outputs": [],
   "source": []
  },
  {
   "cell_type": "code",
   "execution_count": null,
   "metadata": {},
   "outputs": [],
   "source": []
  },
  {
   "cell_type": "code",
   "execution_count": null,
   "metadata": {},
   "outputs": [],
   "source": []
  },
  {
   "cell_type": "code",
   "execution_count": null,
   "metadata": {},
   "outputs": [],
   "source": []
  },
  {
   "cell_type": "code",
   "execution_count": null,
   "metadata": {},
   "outputs": [],
   "source": []
  },
  {
   "cell_type": "code",
   "execution_count": null,
   "metadata": {},
   "outputs": [],
   "source": []
  },
  {
   "cell_type": "code",
   "execution_count": null,
   "metadata": {},
   "outputs": [],
   "source": []
  }
 ],
 "metadata": {
  "kernelspec": {
   "display_name": "Python 3",
   "language": "python",
   "name": "python3"
  },
  "language_info": {
   "codemirror_mode": {
    "name": "ipython",
    "version": 3
   },
   "file_extension": ".py",
   "mimetype": "text/x-python",
   "name": "python",
   "nbconvert_exporter": "python",
   "pygments_lexer": "ipython3",
   "version": "3.8.3"
  }
 },
 "nbformat": 4,
 "nbformat_minor": 4
}
